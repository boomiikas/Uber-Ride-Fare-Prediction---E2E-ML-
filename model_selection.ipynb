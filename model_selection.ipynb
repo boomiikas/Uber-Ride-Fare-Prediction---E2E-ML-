{
 "cells": [
  {
   "cell_type": "code",
   "execution_count": 1,
   "id": "c8d70b97",
   "metadata": {},
   "outputs": [],
   "source": [
    "import pandas as pd\n",
    "import numpy as np\n",
    "import matplotlib.pyplot as plt\n",
    "import seaborn as sns"
   ]
  },
  {
   "cell_type": "code",
   "execution_count": 2,
   "id": "86a5327a",
   "metadata": {},
   "outputs": [
    {
     "data": {
      "text/plain": [
       "(2039, 6)"
      ]
     },
     "execution_count": 2,
     "metadata": {},
     "output_type": "execute_result"
    }
   ],
   "source": [
    "df=pd.read_csv('cleaned_dataset.csv')\n",
    "df.shape"
   ]
  },
  {
   "cell_type": "code",
   "execution_count": 17,
   "id": "20e79c99",
   "metadata": {},
   "outputs": [
    {
     "name": "stdout",
     "output_type": "stream",
     "text": [
      "<class 'pandas.core.frame.DataFrame'>\n",
      "RangeIndex: 2039 entries, 0 to 2038\n",
      "Data columns (total 6 columns):\n",
      " #   Column             Non-Null Count  Dtype  \n",
      "---  ------             --------------  -----  \n",
      " 0   fare_amount        2039 non-null   float64\n",
      " 1   pickup_longitude   2039 non-null   float64\n",
      " 2   pickup_latitude    2039 non-null   float64\n",
      " 3   dropoff_longitude  2039 non-null   float64\n",
      " 4   dropoff_latitude   2039 non-null   float64\n",
      " 5   Year               2039 non-null   int64  \n",
      "dtypes: float64(5), int64(1)\n",
      "memory usage: 95.7 KB\n"
     ]
    }
   ],
   "source": [
    "df.info()"
   ]
  },
  {
   "cell_type": "code",
   "execution_count": 3,
   "id": "7bacbf32",
   "metadata": {},
   "outputs": [],
   "source": [
    "from sklearn.linear_model import LinearRegression,RidgeCV,LassoCV\n",
    "from sklearn.preprocessing import PolynomialFeatures\n",
    "from sklearn.neighbors import KNeighborsRegressor\n",
    "from sklearn.svm import SVR\n",
    "from sklearn.tree import DecisionTreeRegressor\n",
    "from sklearn.ensemble import RandomForestRegressor,GradientBoostingRegressor,AdaBoostRegressor\n",
    "from xgboost import XGBRegressor\n",
    "from sklearn.model_selection import train_test_split\n",
    "from sklearn.metrics import mean_absolute_error,mean_squared_error, r2_score"
   ]
  },
  {
   "cell_type": "code",
   "execution_count": 4,
   "id": "37972433",
   "metadata": {},
   "outputs": [
    {
     "data": {
      "text/plain": [
       "Index(['fare_amount', 'pickup_longitude', 'pickup_latitude',\n",
       "       'dropoff_longitude', 'dropoff_latitude', 'Year'],\n",
       "      dtype='object')"
      ]
     },
     "execution_count": 4,
     "metadata": {},
     "output_type": "execute_result"
    }
   ],
   "source": [
    "df.columns"
   ]
  },
  {
   "cell_type": "code",
   "execution_count": 5,
   "id": "b14f7a83",
   "metadata": {},
   "outputs": [],
   "source": [
    "X=df.drop(columns='fare_amount')\n",
    "y=df['fare_amount']\n",
    "X_train, X_test, y_train, y_test = train_test_split(X, y, test_size=0.2, random_state=42)"
   ]
  },
  {
   "cell_type": "code",
   "execution_count": 14,
   "id": "3d0a0c41",
   "metadata": {},
   "outputs": [
    {
     "name": "stdout",
     "output_type": "stream",
     "text": [
      "Using Train/Test split\n",
      "   Rank                  Model        MSE        R2\n",
      "0     1       GradientBoosting  22.317146  0.715901\n",
      "1     2                    Knn  23.246311  0.704073\n",
      "2     3                XGBoost  26.466943  0.663074\n",
      "3     4           RandomForest  26.691654  0.660213\n",
      "4     5  DecisionTreeRegressor  27.457679  0.650462\n",
      "5     6               AdaBoost  47.369681  0.396981\n",
      "6     7                  Ridge  60.661569  0.227774\n",
      "7     8                  Lasso  60.694595  0.227354\n",
      "8     9       LinearRegression  60.708865  0.227172\n",
      "9    10                    SVM  83.181922 -0.058911\n"
     ]
    }
   ],
   "source": [
    "models = {\n",
    "    \"LinearRegression\": LinearRegression(),\n",
    "    \"Ridge\": RidgeCV(),\n",
    "    \"Lasso\": LassoCV(),\n",
    "    \"Knn\" : KNeighborsRegressor(),\n",
    "    \"SVM\" : SVR(),\n",
    "    \"DecisionTreeRegressor\" : DecisionTreeRegressor(),\n",
    "    \"RandomForest\": RandomForestRegressor(),\n",
    "    \"GradientBoosting\": GradientBoostingRegressor(),\n",
    "    \"AdaBoost\" : AdaBoostRegressor(),\n",
    "    \"XGBoost\" : XGBRegressor()\n",
    "}\n",
    "\n",
    "results = {}\n",
    "\n",
    "for name, model in models.items():\n",
    "    model.fit(X_train, y_train)\n",
    "    y_pred = model.predict(X_test)\n",
    "    mae=mean_absolute_error(y_test,y_pred)\n",
    "    mse = mean_squared_error(y_test, y_pred)\n",
    "    r2 = r2_score(y_test, y_pred)\n",
    "    results[name] = {\"MSE\": mse, \"R2\": r2}\n",
    "results_df = pd.DataFrame(results).T  # transpose\n",
    "results_df = results_df.sort_values(by=\"R2\", ascending=False)\n",
    "results_df.reset_index(inplace=True)\n",
    "results_df.rename(columns={\"index\": \"Model\"}, inplace=True)\n",
    "results_df.insert(0, \"Rank\", range(1, len(results_df) + 1))\n",
    "print(\"Using Train/Test split\")\n",
    "print(results_df)"
   ]
  },
  {
   "cell_type": "code",
   "execution_count": 16,
   "id": "a253ea7f",
   "metadata": {},
   "outputs": [
    {
     "name": "stdout",
     "output_type": "stream",
     "text": [
      "Using K fold\n",
      "   Rank                  Model   MSE mean    R2 mean\n",
      "0     1           RandomForest   36.150905  0.699238\n",
      "1     2                    Knn   38.055696  0.677723\n",
      "2     3                XGBoost   38.292434  0.677163\n",
      "3     4       GradientBoosting   37.930682  0.670778\n",
      "4     5  DecisionTreeRegressor   66.810924  0.290899\n",
      "5     6                  Ridge   72.101632  0.249988\n",
      "6     7       LinearRegression   72.109468  0.249852\n",
      "7     8                  Lasso   72.110674  0.249817\n",
      "8     9               AdaBoost   69.756412  0.202030\n",
      "9    10                    SVM  102.878079 -0.083227\n"
     ]
    }
   ],
   "source": [
    "from sklearn.model_selection import cross_val_score,KFold,StratifiedKFold\n",
    "kf=KFold(n_splits=5,shuffle=True,random_state=3)\n",
    "results = {}\n",
    "for name, model in models.items():\n",
    "    mse_scores = -cross_val_score(model, X, y, cv=kf, scoring=\"neg_mean_squared_error\")\n",
    "    r2_scores = cross_val_score(model, X, y, cv=kf, scoring=\"r2\")\n",
    "    results[name] = {\"MSE mean \": mse_scores.mean(),\"R2 mean\": r2_scores.mean()}\n",
    "results_df = pd.DataFrame(results).T  # transpose\n",
    "results_df = results_df.sort_values(by=\"R2 mean\", ascending=False)\n",
    "results_df.reset_index(inplace=True)\n",
    "results_df.rename(columns={\"index\": \"Model\"}, inplace=True)\n",
    "results_df.insert(0, \"Rank\", range(1, len(results_df) + 1))\n",
    "print(\"Using K fold\")\n",
    "print(results_df)"
   ]
  },
  {
   "cell_type": "markdown",
   "id": "0e31df7a",
   "metadata": {},
   "source": [
    "1.Random Forest\n",
    "2.KNN\n",
    "3.XGBoost\n",
    "4.Gradient Boosting"
   ]
  },
  {
   "cell_type": "code",
   "execution_count": 18,
   "id": "567f41cc",
   "metadata": {},
   "outputs": [],
   "source": [
    "from sklearn.model_selection import GridSearchCV,RandomizedSearchCV\n",
    "param_grids = {\n",
    "    \"RandomForest\": {\n",
    "        \"n_estimators\": [100, 200, 300],\n",
    "        \"max_depth\": [None, 5, 10, 20],\n",
    "        \"min_samples_split\": [2, 5, 10],\n",
    "    },\n",
    "    \"GradientBoosting\": {\n",
    "        \"n_estimators\": [100, 200, 300],\n",
    "        \"learning_rate\": [0.01, 0.05, 0.1],\n",
    "        \"max_depth\": [3, 5, 7]\n",
    "    },\n",
    "    \"XGBoost\": {\n",
    "        \"n_estimators\": [100, 200, 300],\n",
    "        \"learning_rate\": [0.01, 0.05, 0.1],\n",
    "        \"max_depth\": [3, 5, 7],\n",
    "        \"subsample\": [0.7, 0.9, 1.0]\n",
    "    },\n",
    "    \"KNN\": {\n",
    "        \"n_neighbors\": [3, 5, 7, 9],\n",
    "        \"weights\": [\"uniform\", \"distance\"],\n",
    "        \"p\": [1, 2]  # Manhattan / Euclidean\n",
    "    }\n",
    "}"
   ]
  },
  {
   "cell_type": "code",
   "execution_count": 19,
   "id": "897f5151",
   "metadata": {},
   "outputs": [
    {
     "name": "stdout",
     "output_type": "stream",
     "text": [
      "Best Params: {'max_depth': None, 'min_samples_split': 5, 'n_estimators': 200}\n",
      "Best MSE: 35.31922052220995\n"
     ]
    }
   ],
   "source": [
    "rf = RandomForestRegressor(random_state=42)\n",
    "grid = GridSearchCV(\n",
    "    estimator=rf,\n",
    "    param_grid=param_grids[\"RandomForest\"],\n",
    "    cv=5,\n",
    "    scoring=\"neg_mean_squared_error\"\n",
    ")\n",
    "grid.fit(X, y)\n",
    "\n",
    "print(\"Best Params:\", grid.best_params_)\n",
    "print(\"Best MSE:\", -grid.best_score_)"
   ]
  },
  {
   "cell_type": "code",
   "execution_count": 23,
   "id": "54ab0919",
   "metadata": {},
   "outputs": [
    {
     "name": "stdout",
     "output_type": "stream",
     "text": [
      "Best Params: {'learning_rate': 0.1, 'max_depth': 3, 'n_estimators': 300}\n",
      "Best MSE: 33.84313790805742\n"
     ]
    }
   ],
   "source": [
    "rf = GradientBoostingRegressor(random_state=42)\n",
    "grid = GridSearchCV(\n",
    "    estimator=rf,\n",
    "    param_grid=param_grids[\"GradientBoosting\"],\n",
    "    cv=5,\n",
    "    scoring=\"neg_mean_squared_error\",\n",
    "    n_jobs=-1\n",
    ")\n",
    "grid.fit(X, y)\n",
    "\n",
    "print(\"Best Params:\", grid.best_params_)\n",
    "print(\"Best MSE:\", -grid.best_score_)"
   ]
  },
  {
   "cell_type": "code",
   "execution_count": 21,
   "id": "699f3c64",
   "metadata": {},
   "outputs": [
    {
     "name": "stdout",
     "output_type": "stream",
     "text": [
      "Best Params: {'learning_rate': 0.05, 'max_depth': 5, 'n_estimators': 200, 'subsample': 0.7}\n",
      "Best MSE: 33.42801867503699\n"
     ]
    }
   ],
   "source": [
    "rf = XGBRegressor(random_state=42,n_jobs=1)\n",
    "grid = GridSearchCV(\n",
    "    estimator=rf,\n",
    "    param_grid=param_grids[\"XGBoost\"],\n",
    "    cv=5,\n",
    "    scoring=\"neg_mean_squared_error\")\n",
    "grid.fit(X, y)\n",
    "\n",
    "print(\"Best Params:\", grid.best_params_)\n",
    "print(\"Best MSE:\", -grid.best_score_)"
   ]
  },
  {
   "cell_type": "code",
   "execution_count": 22,
   "id": "25c1c445",
   "metadata": {},
   "outputs": [
    {
     "name": "stdout",
     "output_type": "stream",
     "text": [
      "Best Params: {'n_neighbors': 3, 'p': 2, 'weights': 'distance'}\n",
      "Best MSE: 35.10621381343167\n"
     ]
    }
   ],
   "source": [
    "knn = KNeighborsRegressor()\n",
    "\n",
    "grid = GridSearchCV(\n",
    "    estimator=knn,\n",
    "    param_grid=param_grids[\"KNN\"], \n",
    "    scoring=\"neg_mean_squared_error\",\n",
    "    n_jobs=-1)\n",
    "\n",
    "grid.fit(X, y)\n",
    "\n",
    "print(\"Best Params:\", grid.best_params_)\n",
    "print(\"Best MSE:\", -grid.best_score_)"
   ]
  },
  {
   "cell_type": "code",
   "execution_count": 30,
   "id": "7dde6171",
   "metadata": {},
   "outputs": [
    {
     "name": "stdout",
     "output_type": "stream",
     "text": [
      "           Model                                                            Best Params   Best MSE\n",
      "    XGBRegressor    learning_rate=0.05, max_depth=5, n_estimators=200, subsample=0.7     33.428019\n",
      "GradientBoosting            learning_rate=0.1, max_depth=3, n_estimators=300             33.843138\n",
      "             KNN                  n_neighbors=3, p=2, weights=distance                   35.106214\n",
      "    RandomForest         max_depth=None, min_samples_split=5, n_estimators=200           35.319221\n"
     ]
    }
   ],
   "source": [
    "results = [\n",
    "    (\"XGBRegressor\", {\"learning_rate\": 0.05, \"max_depth\": 5, \"n_estimators\": 200, \"subsample\": 0.7}, 33.428019),\n",
    "    (\"GradientBoosting\", {\"learning_rate\": 0.1, \"max_depth\": 3, \"n_estimators\": 300}, 33.843138),\n",
    "    (\"KNN\", {\"n_neighbors\": 3, \"p\": 2, \"weights\": \"distance\"}, 35.106214),\n",
    "    (\"RandomForest\", {\"max_depth\": None, \"min_samples_split\": 5, \"n_estimators\": 200}, 35.319221)\n",
    "]\n",
    "\n",
    "df = pd.DataFrame(results, columns=[\"Model\", \"Best Params\", \"Best MSE\"])\n",
    "df[\"Best Params\"] = df[\"Best Params\"].apply(lambda d: \", \".join(f\"{k}={v}\" for k, v in d.items()))\n",
    "\n",
    "df[\"Best Params\"] = df[\"Best Params\"].apply(lambda x: x.center(70))\n",
    "\n",
    "df[\"Best MSE\"] = df[\"Best MSE\"].apply(lambda x: f\"{x:10.6f}\")\n",
    "\n",
    "print(df.to_string(index=False))"
   ]
  },
  {
   "cell_type": "markdown",
   "id": "30612c29",
   "metadata": {},
   "source": [
    "XGBRegressor is best"
   ]
  }
 ],
 "metadata": {
  "kernelspec": {
   "display_name": "pyai",
   "language": "python",
   "name": "python3"
  },
  "language_info": {
   "codemirror_mode": {
    "name": "ipython",
    "version": 3
   },
   "file_extension": ".py",
   "mimetype": "text/x-python",
   "name": "python",
   "nbconvert_exporter": "python",
   "pygments_lexer": "ipython3",
   "version": "3.12.11"
  }
 },
 "nbformat": 4,
 "nbformat_minor": 5
}
