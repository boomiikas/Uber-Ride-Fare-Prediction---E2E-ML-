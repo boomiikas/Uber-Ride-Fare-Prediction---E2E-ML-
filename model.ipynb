{
 "cells": [
  {
   "cell_type": "code",
   "execution_count": 1,
   "id": "3178b423",
   "metadata": {},
   "outputs": [],
   "source": [
    "import pandas as pd\n",
    "import numpy as np"
   ]
  },
  {
   "cell_type": "code",
   "execution_count": 2,
   "id": "61b1ba50",
   "metadata": {},
   "outputs": [],
   "source": [
    "from xgboost import XGBRegressor\n",
    "from sklearn.metrics import mean_absolute_error,mean_squared_error, r2_score"
   ]
  },
  {
   "cell_type": "code",
   "execution_count": 5,
   "id": "06fc5423",
   "metadata": {},
   "outputs": [],
   "source": [
    "df=pd.read_csv('cleaned_dataset.csv')"
   ]
  },
  {
   "cell_type": "markdown",
   "id": "33d9ffa4",
   "metadata": {},
   "source": [
    " learning_rate=0.1, max_depth=3, n_estimators=300-gb---MSE: 21.4716,R² Score: 0.7267"
   ]
  },
  {
   "cell_type": "markdown",
   "id": "64bacf94",
   "metadata": {},
   "source": [
    "learning_rate=0.05, max_depth=5, n_estimators=200, random_state=42,subsample=0.7-xgb---MSE: 22.6869,R² Score: 0.7112"
   ]
  },
  {
   "cell_type": "markdown",
   "id": "1755f324",
   "metadata": {},
   "source": [
    "n_neighbors=3, p=2, weights=distance-knn --- MSE: 19.4611,R² Score: 0.7523\n"
   ]
  },
  {
   "cell_type": "markdown",
   "id": "d874335f",
   "metadata": {},
   "source": [
    "max_depth=None, min_samples_split=5, n_estimators=200-rf---MSE: 32.6649,R² Score: 0.5842"
   ]
  },
  {
   "cell_type": "code",
   "execution_count": 16,
   "id": "d50d5702",
   "metadata": {},
   "outputs": [
    {
     "name": "stdout",
     "output_type": "stream",
     "text": [
      "MSE: 19.4611\n",
      "R² Score: 0.7523\n"
     ]
    }
   ],
   "source": [
    "from xgboost import XGBRegressor\n",
    "from sklearn.neighbors import KNeighborsRegressor\n",
    "from sklearn.metrics import mean_squared_error, r2_score\n",
    "from sklearn.model_selection import train_test_split\n",
    "\n",
    "X=df.drop(columns='fare_amount')\n",
    "y=df['fare_amount']\n",
    "X_train, X_test, y_train, y_test = train_test_split(X, y, test_size=0.2, random_state=42)\n",
    "model=KNeighborsRegressor(n_neighbors=3, p=2, weights='distance')\n",
    "model.fit(X_train, y_train)\n",
    "\n",
    "y_pred = model.predict(X_test)\n",
    "\n",
    "mse = mean_squared_error(y_test, y_pred)\n",
    "r2 = r2_score(y_test, y_pred)\n",
    "\n",
    "print(f\"MSE: {mse:.4f}\")\n",
    "print(f\"R² Score: {r2:.4f}\")"
   ]
  },
  {
   "cell_type": "code",
   "execution_count": 18,
   "id": "fd83e650",
   "metadata": {},
   "outputs": [
    {
     "name": "stdout",
     "output_type": "stream",
     "text": [
      "Model saved successfully!\n",
      "Model loaded successfully!\n"
     ]
    }
   ],
   "source": [
    "import pickle\n",
    "\n",
    "filename = 'trained_model.sav'\n",
    "\n",
    "# Save model and scaler\n",
    "with open(filename, 'wb') as f:\n",
    "    pickle.dump((model), f)\n",
    "print(\"Model saved successfully!\")\n",
    "\n",
    "# Load model and scaler\n",
    "with open(filename, 'rb') as f:\n",
    "    loaded_model= pickle.load(f)\n",
    "print(\"Model loaded successfully!\")"
   ]
  }
 ],
 "metadata": {
  "kernelspec": {
   "display_name": "pyai",
   "language": "python",
   "name": "python3"
  },
  "language_info": {
   "codemirror_mode": {
    "name": "ipython",
    "version": 3
   },
   "file_extension": ".py",
   "mimetype": "text/x-python",
   "name": "python",
   "nbconvert_exporter": "python",
   "pygments_lexer": "ipython3",
   "version": "3.12.11"
  }
 },
 "nbformat": 4,
 "nbformat_minor": 5
}
